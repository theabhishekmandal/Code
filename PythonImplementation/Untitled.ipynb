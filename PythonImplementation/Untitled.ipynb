{
 "cells": [
  {
   "cell_type": "code",
   "execution_count": 3,
   "metadata": {},
   "outputs": [
    {
     "data": {
      "text/plain": [
       "[1, 2, 3, 4, 5, 6, 7, 8, 9, 10]"
      ]
     },
     "execution_count": 3,
     "metadata": {},
     "output_type": "execute_result"
    }
   ],
   "source": [
    "list(range(1, 10 + 1))"
   ]
  },
  {
   "cell_type": "code",
   "execution_count": null,
   "metadata": {},
   "outputs": [],
   "source": [
    "class kStack:\n",
    "    \n",
    "    def __init__(self, stack_size, array_size):\n",
    "        self.size = arraySize(\n",
    "        self.array_elements = [None] * array_size\n",
    "        self.next_index = list(range(1, array_size + 1))\n",
    "        self.next_index[-1] = -1\n",
    "        self.free = 0\n",
    "        self.top = [-1] * stack_size\n",
    "            \n",
    "    def push(self, stack_no, data):\n",
    "            if isFull():\n",
    "                raise Exception(\"Stack is full\")\n",
    "            \n",
    "            curr = self.free\n",
    "            self.free = self.next_index[curr]\n",
    "            \n",
    "            self.next_index[curr] = self.top[stack_no]\n",
    "            self.top[stack_no] = curr\n",
    "            \n",
    "            self.array_elements[curr] = data\n",
    "            \n",
    "    def pop(self, stack_no):\n",
    "            \n",
    "            \n",
    "    \n",
    "    def isFull(self):\n",
    "        return self.free == -1\n",
    "            \n",
    "    def isEmpty(self, stack_no):\n",
    "            return self.top[stack_no] == -1\n",
    "            \n",
    "    def print_which_stack(self, stack_no):\n",
    "            if type(stack_no) != int:\n",
    "                return \"\"\n",
    "            curr = self.top[stack_no]\n",
    "            ans = \"[\"\n",
    "            while self.next_index[curr] != -1:\n",
    "                ans += self.array_elements[curr] + \", \"\n",
    "                curr = self.next_index[curr]\n",
    "            return ans\n",
    "                \n",
    "            "
   ]
  }
 ],
 "metadata": {
  "kernelspec": {
   "display_name": "Python 3",
   "language": "python",
   "name": "python3"
  },
  "language_info": {
   "codemirror_mode": {
    "name": "ipython",
    "version": 3
   },
   "file_extension": ".py",
   "mimetype": "text/x-python",
   "name": "python",
   "nbconvert_exporter": "python",
   "pygments_lexer": "ipython3",
   "version": "3.6.9"
  }
 },
 "nbformat": 4,
 "nbformat_minor": 2
}
