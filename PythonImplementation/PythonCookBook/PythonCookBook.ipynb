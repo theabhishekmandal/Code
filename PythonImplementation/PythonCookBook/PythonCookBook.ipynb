{
 "cells": [
  {
   "cell_type": "code",
   "execution_count": 1,
   "metadata": {},
   "outputs": [
    {
     "name": "stdout",
     "output_type": "stream",
     "text": [
      "lastname abhishek mandal lastname\n"
     ]
    }
   ],
   "source": [
    "## Unpacking example\n",
    "data  = [\"name\", \"abhishek\", \"mandal\", \"lastname\"]\n",
    "_, shares, price, _, = data\n",
    "# last value got ovverriwritten\n",
    "print(_, shares, price, _)\n",
    "\n"
   ]
  },
  {
   "cell_type": "code",
   "execution_count": 2,
   "metadata": {},
   "outputs": [
    {
     "name": "stdout",
     "output_type": "stream",
     "text": [
      "name is Dave, email is dave@example.com, phone numbers are ['348573497534', '2093480923842']\n",
      "foo 1 2\n",
      "bar hello\n",
      "foo 3 4\n",
      "name is ACME year is 2012\n"
     ]
    }
   ],
   "source": [
    "##Unpacking iterables of Arbitarary length\n",
    "'''\n",
    "    You need to unpack N elements froma ann iterable, but the iterable may be longer than N elements,\n",
    "    causing a \"too may values to upack\" exception\n",
    "\n",
    "    Python *expressions can be used to address this problem.\n",
    "'''\n",
    "# the input can be records that consist of a name and email address,\n",
    "# followed by arbitrary number of phone numbers\n",
    "record = ('Dave', 'dave@example.com', '348573497534', '2093480923842')\n",
    "name, email, *phone_numbers = record\n",
    "print(f\"name is {name}, email is {email}, phone numbers are {phone_numbers}\")\n",
    "\n",
    "\n",
    "'''\n",
    "Somemtimes these iterables have some known component or pattern in\n",
    "their construction eg: \"everththing after element 1 is a phone number\".\n",
    "Such type of property we can use\n",
    "'''\n",
    "records =[\n",
    "        ('foo', 1, 2),\n",
    "        ('bar', 'hello'),\n",
    "        ('foo', 3, 4),\n",
    "        ]\n",
    "def do_foo(x, y):\n",
    "    print('foo', x, y)\n",
    "def do_bar(s):\n",
    "    print('bar', s)\n",
    "\n",
    "for tag, *args in records:\n",
    "    if tag == 'foo':\n",
    "        do_foo(*args)\n",
    "    elif tag == 'bar':\n",
    "        do_bar(*args)\n",
    "\n",
    "'''\n",
    "Sometimes you might want to unpack values and throw them away.\n",
    "You can't just specify a bare * when unpacking, you can use\n",
    "commong throwable name such as _\n",
    "'''\n",
    "record = ('ACME', 50, 123.3, (12, 18, 2012))\n",
    "name, *_, (*_, year) = record\n",
    "print(f'name is {name} year is {year}')\n",
    "\n",
    "\n"
   ]
  },
  {
   "cell_type": "code",
   "execution_count": 4,
   "metadata": {},
   "outputs": [
    {
     "name": "stdout",
     "output_type": "stream",
     "text": [
      "slkdjfsd\n",
      "safd\n",
      "sdf\n",
      "sdf\n",
      "\n",
      "dspython\n",
      "--------------------\n",
      "safd\n",
      "sdf\n",
      "sdf\n",
      "\n",
      "dspython\n",
      "python\n",
      "--------------------\n"
     ]
    }
   ],
   "source": [
    "'''\n",
    " You want to keep a limited history of the last few items seen during iteration\n",
    " or during some other kind of processing\n",
    "'''\n",
    "from collections import deque as d\n",
    "def search(lines, pattern, history = 5):\n",
    "    # maxlen shows the maximum length of the queue\n",
    "    # if it exceeds then the queue pops elements\n",
    "    previous_lines = d(maxlen = history)\n",
    "    for line in lines:\n",
    "        if pattern in line:\n",
    "            yield line, previous_lines\n",
    "        previous_lines.append(line)\n",
    "\n",
    "\n",
    "# example use on a file\n",
    "if __name__ == '__main__':\n",
    "    with open('hello.txt') as f:\n",
    "        for line, prevlines in search(f, 'python', 5):\n",
    "            for pline in prevlines:\n",
    "                print(pline, end = '')\n",
    "            print(line,end = '')\n",
    "            print('-'*20)\n"
   ]
  },
  {
   "cell_type": "code",
   "execution_count": null,
   "metadata": {},
   "outputs": [],
   "source": []
  }
 ],
 "metadata": {
  "kernelspec": {
   "display_name": "Python 3",
   "language": "python",
   "name": "python3"
  },
  "language_info": {
   "codemirror_mode": {
    "name": "ipython",
    "version": 3
   },
   "file_extension": ".py",
   "mimetype": "text/x-python",
   "name": "python",
   "nbconvert_exporter": "python",
   "pygments_lexer": "ipython3",
   "version": "3.6.8"
  }
 },
 "nbformat": 4,
 "nbformat_minor": 2
}
