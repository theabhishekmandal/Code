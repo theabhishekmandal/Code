{
 "cells": [
  {
   "cell_type": "code",
   "execution_count": null,
   "metadata": {},
   "outputs": [],
   "source": [
    "'''\n",
    "    peak finding algorithm for 1 dimension array\n",
    "'''\n",
    "\n",
    "arr = list(map(int, input('enter an array of elements ').strip().split()))\n",
    "\n",
    "low = 0\n",
    "length = len(arr)\n",
    "high = length - 1\n",
    "mid = 0\n",
    "while low <= high:\n",
    "    mid = low + (high - low) // 2\n",
    "\n",
    "    # always check the mid condition first\n",
    "    if (mid == 0 or arr[mid - 1] <= arr[mid]) and (mid == length - 1 or arr[mid + 1] <= arr[mid]):\n",
    "        print(arr[mid])\n",
    "        break\n",
    "    elif mid + 1 < length and arr[mid] > arr[mid + 1]:\n",
    "        high = mid - 1\n",
    "    else:                       # don't put elseif condition here else it won't work\n",
    "        low = mid + 1"
   ]
  },
  {
   "cell_type": "code",
   "execution_count": 9,
   "metadata": {},
   "outputs": [
    {
     "name": "stdout",
     "output_type": "stream",
     "text": [
      "enter array 0 0 0\n",
      "1\n",
      "1\n",
      "1\n",
      "-1\n"
     ]
    }
   ],
   "source": [
    "'''\n",
    "    binary search\n",
    "'''\n",
    "def binarySearch(arr : list, key : int) -> int:\n",
    "    low = 0\n",
    "    high = len(arr) - 1\n",
    "    while(low <= high):\n",
    "        mid = low + ((high - low) >> 1)\n",
    "        if(arr[mid] == key):\n",
    "            return mid\n",
    "        elif arr[mid] < key:\n",
    "            low = mid + 1\n",
    "        else:\n",
    "            high = mid - 1\n",
    "    return -1\n",
    "arr = sorted(list(map(int, input('enter array ').strip().split())))\n",
    "for i in arr:\n",
    "    print(binarySearch(arr, i))\n",
    "print(binarySearch(arr, 100))"
   ]
  },
  {
   "cell_type": "code",
   "execution_count": null,
   "metadata": {},
   "outputs": [],
   "source": []
  },
  {
   "cell_type": "code",
   "execution_count": null,
   "metadata": {},
   "outputs": [],
   "source": []
  }
 ],
 "metadata": {
  "kernelspec": {
   "display_name": "Python 3",
   "language": "python",
   "name": "python3"
  },
  "language_info": {
   "codemirror_mode": {
    "name": "ipython",
    "version": 3
   },
   "file_extension": ".py",
   "mimetype": "text/x-python",
   "name": "python",
   "nbconvert_exporter": "python",
   "pygments_lexer": "ipython3",
   "version": "3.6.8"
  }
 },
 "nbformat": 4,
 "nbformat_minor": 2
}
